{
 "cells": [
  {
   "cell_type": "markdown",
   "metadata": {},
   "source": [
    "# Build and Register an R-Kernel Image\n",
    "\n",
    "Please ensure you have followed the instructions on the [prerequisites notebook](PRE-REQS.ipynb).\n",
    "\n",
    "Those pre-requisites provide the IAM Policy permissions to run the commands below.\n",
    "\n"
   ]
  },
  {
   "cell_type": "code",
   "execution_count": null,
   "metadata": {},
   "outputs": [],
   "source": [
    "!ls"
   ]
  },
  {
   "cell_type": "markdown",
   "metadata": {},
   "source": [
    "## Install the Sagemaker Image Build CLI"
   ]
  },
  {
   "cell_type": "code",
   "execution_count": null,
   "metadata": {},
   "outputs": [],
   "source": [
    "!pip install sagemaker-studio-image-build"
   ]
  },
  {
   "cell_type": "markdown",
   "metadata": {},
   "source": [
    "## Build the image using sm-docker"
   ]
  },
  {
   "cell_type": "markdown",
   "metadata": {},
   "source": [
    "This command will build the docker image inside CodeBuild, then upload it to ECR inside a new image repository. There are other parameters that will permit you to use existing repositories.\n",
    "\n",
    "If you want to understand or modify the contents of the Sagemaker Studio Kernel itself, you will need to inspect the contents of the [Dockerfile](Dockerfile)."
   ]
  },
  {
   "cell_type": "code",
   "execution_count": null,
   "metadata": {},
   "outputs": [],
   "source": [
    "!sm-docker build ."
   ]
  },
  {
   "cell_type": "markdown",
   "metadata": {},
   "source": [
    "## Register the Image with Sagemaker as a Kernel"
   ]
  },
  {
   "cell_type": "markdown",
   "metadata": {},
   "source": [
    "When the process above finishes executing the final line should give you a link to your image inside ECR.\n",
    "\n",
    "Copy the value after ```Image URI:```\n",
    "\n",
    "You will also need your ROLE_ARN, DOMAIN_ID and REGION.\n",
    "\n",
    "First we create a Named Sagemaker Kernel Image which we can use to register our custom image."
   ]
  },
  {
   "cell_type": "code",
   "execution_count": null,
   "metadata": {},
   "outputs": [],
   "source": [
    "!aws sagemaker create-image \\\n",
    "    --region <REGION> \\\n",
    "    --image-name my-custom-r-kernel \\\n",
    "    --role-arn <ROLE_ARN>"
   ]
  },
  {
   "cell_type": "markdown",
   "metadata": {},
   "source": [
    "We then add our newly created image as the first version of the Sagemaker Image"
   ]
  },
  {
   "cell_type": "code",
   "execution_count": null,
   "metadata": {},
   "outputs": [],
   "source": [
    "\n",
    "!aws sagemaker create-image-version \\\n",
    "    --region <REGION> \\\n",
    "    --image-name my-custom-r-kernel \\\n",
    "    --base-image <IMAGE_URL>"
   ]
  },
  {
   "cell_type": "markdown",
   "metadata": {},
   "source": [
    "## Register the Kernel with your Studio Domain"
   ]
  },
  {
   "cell_type": "markdown",
   "metadata": {},
   "source": [
    "\n",
    "Copy your DOMAIN ID and REGION into the command below. \n",
    "\n",
    "If you have changed the name of your custom kernel then edit the file [default-user-settings.json](default-user-settings.json)"
   ]
  },
  {
   "cell_type": "code",
   "execution_count": null,
   "metadata": {},
   "outputs": [],
   "source": [
    "!aws sagemaker update-domain --domain-id <DOMAIN_ID> \\\n",
    "    --region <REGION> \\\n",
    "    --cli-input-json file://default-user-settings.json\n"
   ]
  }
 ],
 "metadata": {
  "instance_type": "ml.t3.medium",
  "kernelspec": {
   "display_name": "Python 3 (Data Science)",
   "language": "python",
   "name": "python3__SAGEMAKER_INTERNAL__arn:aws:sagemaker:us-west-2:236514542706:image/datascience-1.0"
  },
  "language_info": {
   "codemirror_mode": {
    "name": "ipython",
    "version": 3
   },
   "file_extension": ".py",
   "mimetype": "text/x-python",
   "name": "python",
   "nbconvert_exporter": "python",
   "pygments_lexer": "ipython3",
   "version": "3.7.6"
  }
 },
 "nbformat": 4,
 "nbformat_minor": 4
}
