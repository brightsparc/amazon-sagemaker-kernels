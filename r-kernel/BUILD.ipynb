{
 "cells": [
  {
   "cell_type": "markdown",
   "metadata": {},
   "source": [
    "# Build and Register an R-Kernel Image\n",
    "\n",
    "Please ensure you have followed the instructions on the [prerequisites](../PRE-REQS.md) readme.\n",
    "\n",
    "Those pre-requisites provide the IAM Policy permissions to run the commands below."
   ]
  },
  {
   "cell_type": "markdown",
   "metadata": {},
   "source": [
    "## Install the Sagemaker Image Build CLI\n",
    "\n",
    "Install the [sagemaker-studio-image-build](https://pypi.org/project/sagemaker-studio-image-build/) python library to enable us to run the `sm-docker` build CLI."
   ]
  },
  {
   "cell_type": "code",
   "execution_count": null,
   "metadata": {},
   "outputs": [],
   "source": [
    "!pip install sagemaker-studio-image-build"
   ]
  },
  {
   "cell_type": "markdown",
   "metadata": {},
   "source": [
    "## Build the image using sm-docker"
   ]
  },
  {
   "cell_type": "markdown",
   "metadata": {},
   "source": [
    "This command will build the docker image inside CodeBuild, then upload it to ECR inside a new image repository. There are other parameters that will permit you to use existing repositories.\n",
    "\n",
    "If you want to understand or modify the contents of the Sagemaker Studio Kernel itself, you will need to inspect the contents of the [Dockerfile](Dockerfile).\n",
    "\n",
    "The build process will take approximately 9 minutes to complete, logs will emmited to the cell th show progress."
   ]
  },
  {
   "cell_type": "code",
   "execution_count": null,
   "metadata": {},
   "outputs": [],
   "source": [
    "!sm-docker build ."
   ]
  },
  {
   "cell_type": "markdown",
   "metadata": {},
   "source": [
    "## Register the Image with Sagemaker as a Kernel"
   ]
  },
  {
   "cell_type": "markdown",
   "metadata": {},
   "source": [
    "When the process above finishes executing the final line should give you a link to your image inside ECR.\n",
    "\n",
    "Copy the value after ```Image URI:```\n",
    "\n",
    "You will also need your SageMaker Studio `ROLE_ARN`.  You can copy this role from the SageMaker Studio Summary as depicted below.\n",
    "\n",
    "![SageMaker Studio Summary](sagemaker-studio-execution-role.png)\n",
    "\n",
    "First we create a Named Sagemaker Kernel Image which we can use to register our custom image."
   ]
  },
  {
   "cell_type": "code",
   "execution_count": null,
   "metadata": {},
   "outputs": [],
   "source": [
    "!aws sagemaker create-image \\\n",
    "    --image-name my-custom-r-kernel \\\n",
    "    --role-arn \"<ROLE_ARN>\""
   ]
  },
  {
   "cell_type": "markdown",
   "metadata": {},
   "source": [
    "We then add our newly created image as the first version of the Sagemaker Image"
   ]
  },
  {
   "cell_type": "code",
   "execution_count": null,
   "metadata": {},
   "outputs": [],
   "source": [
    "!aws sagemaker create-image-version \\\n",
    "    --image-name my-custom-r-kernel \\\n",
    "    --base-image \"<IMAGE_URI>\""
   ]
  },
  {
   "cell_type": "markdown",
   "metadata": {},
   "source": [
    "Now we create a configuration for kernel images.\n",
    "\n",
    "If you need to change some settings then modify the file [pp-image-config-input.json](pp-image-config-input.json)\n"
   ]
  },
  {
   "cell_type": "code",
   "execution_count": null,
   "metadata": {},
   "outputs": [],
   "source": [
    "!aws sagemaker create-app-image-config \\\n",
    "    --cli-input-json file://app-image-config-input.json"
   ]
  },
  {
   "cell_type": "markdown",
   "metadata": {},
   "source": [
    "## Register the Kernel with your Studio Domain"
   ]
  },
  {
   "cell_type": "markdown",
   "metadata": {},
   "source": [
    "Copy your `DOMAIN_ID` from the output below."
   ]
  },
  {
   "cell_type": "code",
   "execution_count": null,
   "metadata": {},
   "outputs": [],
   "source": [
    "!aws sagemaker list-domains"
   ]
  },
  {
   "cell_type": "markdown",
   "metadata": {},
   "source": [
    "If you have changed the name of your custom kernel then edit the file [default-user-settings.json](default-user-settings.json)"
   ]
  },
  {
   "cell_type": "code",
   "execution_count": null,
   "metadata": {},
   "outputs": [],
   "source": [
    "!aws sagemaker update-domain --domain-id \"<DOMAIN_ID>\" \\\n",
    "    --cli-input-json file://default-user-settings.json"
   ]
  },
  {
   "cell_type": "markdown",
   "metadata": {},
   "source": [
    "You have succesfully built and registered your custom image.  You can now launch the [r_xgboost_batch_transform.ipynb](r_xgboost_batch_transform.ipynb) notebook selecting the `my-custom-r-kernel`.\n",
    "\n",
    "You can also Use the keyboard shortcut `Ctrl + Shift + L` to open Studio Launcher to create a new notebook with this R kernel:\n",
    "\n",
    "![Launcher Select Image](launcher-select-image.png)"
   ]
  }
 ],
 "metadata": {
  "instance_type": "ml.t3.medium",
  "kernelspec": {
   "display_name": "Python 3 (Data Science)",
   "language": "python",
   "name": "python3__SAGEMAKER_INTERNAL__arn:aws:sagemaker:us-west-1:742091327244:image/datascience-1.0"
  },
  "language_info": {
   "codemirror_mode": {
    "name": "ipython",
    "version": 3
   },
   "file_extension": ".py",
   "mimetype": "text/x-python",
   "name": "python",
   "nbconvert_exporter": "python",
   "pygments_lexer": "ipython3",
   "version": "3.7.10"
  }
 },
 "nbformat": 4,
 "nbformat_minor": 4
}
